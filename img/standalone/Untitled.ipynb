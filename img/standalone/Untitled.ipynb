{
 "cells": [
  {
   "cell_type": "markdown",
   "id": "9dea297b",
   "metadata": {},
   "source": [
    "<font color='red'> red </font>"
   ]
  },
  {
   "cell_type": "markdown",
   "id": "dde6a67e",
   "metadata": {},
   "source": [
    "<font color='red'> kghgjkhgjkhg </red>"
   ]
  },
  {
   "cell_type": "code",
   "execution_count": 1,
   "id": "652e0fc5",
   "metadata": {},
   "outputs": [
    {
     "name": "stdout",
     "output_type": "stream",
     "text": [
      "Available Themes: \r\n",
      "   chesterish\r\n",
      "   grade3\r\n",
      "   gruvboxd\r\n",
      "   gruvboxl\r\n",
      "   monokai\r\n",
      "   oceans16\r\n",
      "   onedork\r\n",
      "   solarizedd\r\n",
      "   solarizedl\r\n"
     ]
    }
   ],
   "source": [
    "!jt -l"
   ]
  },
  {
   "cell_type": "code",
   "execution_count": 3,
   "id": "88db76bb",
   "metadata": {},
   "outputs": [],
   "source": [
    "!jt -tf \"loraserif\""
   ]
  },
  {
   "cell_type": "markdown",
   "id": "468eb7c9",
   "metadata": {},
   "source": [
    "Hello\n"
   ]
  },
  {
   "cell_type": "code",
   "execution_count": null,
   "id": "a64cc464",
   "metadata": {},
   "outputs": [],
   "source": []
  }
 ],
 "metadata": {
  "kernelspec": {
   "display_name": "Python 3 (ipykernel)",
   "language": "python",
   "name": "python3"
  },
  "language_info": {
   "codemirror_mode": {
    "name": "ipython",
    "version": 3
   },
   "file_extension": ".py",
   "mimetype": "text/x-python",
   "name": "python",
   "nbconvert_exporter": "python",
   "pygments_lexer": "ipython3",
   "version": "3.11.3"
  }
 },
 "nbformat": 4,
 "nbformat_minor": 5
}
